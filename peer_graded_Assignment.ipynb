{
 "cells": [
  {
   "cell_type": "markdown",
   "id": "51e2b494-dc72-431a-8bd7-dcd9ecc2a54b",
   "metadata": {},
   "source": [
    "Assignment Topic:\n",
    "\n",
    "I was provided with an empty Jupyterlite notebook which I launched in the course, to complete this assignment. I needed to include a combination of markdown and code cells. I did not needed to use the Markdown cheat sheet to help me determine the appropriate syntax for my markdown"
   ]
  },
  {
   "cell_type": "markdown",
   "id": "09f158c3-a641-4c36-8aa1-f9038e306f19",
   "metadata": {},
   "source": [
    " Exercise 1: Create a Jupyter Notebook\n"
   ]
  },
  {
   "cell_type": "markdown",
   "id": "5183c444-64a2-4332-8b35-2d864304a242",
   "metadata": {},
   "source": [
    "'Exercise 2 - Create a markdown cell with the title of the notebook.'\n",
    "\n",
    "# Data Science Tools and Ecosystem\n",
    "## Exercise 3 - Create a markdown cell for an introduction."
   ]
  },
  {
   "cell_type": "markdown",
   "id": "e951f93a-7038-46b1-adbc-edbe60860a5c",
   "metadata": {},
   "source": [
    " ### Objectives:\n",
    "\n",
    "   >List popular languages that Data Scientists use.\n",
    "\n",
    "   >List commonly used libraries used by Data Scientists.\n",
    "\n",
    "   >Comment on Data Science tools."
   ]
  },
  {
   "cell_type": "markdown",
   "id": "31c2cbdd-25a5-4cda-8e3f-c98fae553feb",
   "metadata": {},
   "source": [
    "## Exercise 4 - Create a markdown cell to list data science languages.\n",
    "Some of the popular languages that Data Scientists use are:\n",
    "\n",
    ">Python\n",
    "\n",
    ">R\n",
    "\n",
    ">SQL\n",
    "\n",
    ">Java\n",
    "\n",
    ">Julia\n",
    "\n",
    ">Scala\n",
    "\n",
    ">C/C++\n",
    "\n",
    ">JavaScript"
   ]
  },
  {
   "cell_type": "markdown",
   "id": "b5be84a4-84b1-4004-ad8c-33e2f2c5e1dc",
   "metadata": {
    "tags": []
   },
   "source": [
    "\n",
    " ## Exercise 5 - Create a markdown cell to list data science libraries.\n",
    " Some of the commonly used libraries used by Data Scientists include:\n",
    "\n",
    ">TensorFlow.\n",
    "\n",
    ">NumPy.\n",
    "\n",
    ">SciPy.\n",
    "\n",
    ">Scrapy.\n",
    "\n",
    ">BeautifulSoup.\n",
    "\n",
    ">LightGBM.\n",
    "\n",
    ">ELI5.\n",
    "\n",
    ">Theano.\n",
    "\n",
    ">NuPIC.\n",
    "\n",
    ">Ramp.\n",
    "\n",
    ">Pipenv.\n",
    "\n",
    ">Bob.\n",
    "\n",
    ">PyBrain.\n",
    "\n",
    ">Caffe2.\n",
    "\n",
    ">Chainer"
   ]
  },
  {
   "cell_type": "markdown",
   "id": "c668518a-ae37-422a-a254-da4a8de38577",
   "metadata": {
    "tags": []
   },
   "source": [
    "## Exercise 6 - Create a markdown cell with a table of Data Science tools\n",
    "|Tools for Data Science|\n",
    "|----------------------|\n",
    "|Project Jupyter|\n",
    "|RStudio|\n",
    "|SAS|\n",
    "|Python|\n",
    "|Apache Spark|\n",
    "|Tensor Flow|"
   ]
  },
  {
   "cell_type": "markdown",
   "id": "3696ae97-badf-44e9-a4d5-e79fe4e5bb3e",
   "metadata": {},
   "source": [
    "## Exercise 7 - Create a markdown cell introducing arithmetic expression examples. (1 pt)\n",
    "## Below are a few examples of evaluating arithmetic expressions in Python"
   ]
  },
  {
   "cell_type": "code",
   "execution_count": 3,
   "id": "73d67d40-16ca-4132-a6ec-ed68fc56e821",
   "metadata": {
    "tags": []
   },
   "outputs": [
    {
     "name": "stdout",
     "output_type": "stream",
     "text": [
      "Answer= 40\n"
     ]
    }
   ],
   "source": [
    "## Arithimetic Operations\n",
    "## Addition\n",
    "a=10\n",
    "b=30\n",
    "c=a+b\n",
    "print(\"Answer=\",c)\n",
    "# Result:40"
   ]
  },
  {
   "cell_type": "code",
   "execution_count": 5,
   "id": "8fee313a-a503-43de-9692-df051e423ed4",
   "metadata": {
    "tags": []
   },
   "outputs": [
    {
     "name": "stdout",
     "output_type": "stream",
     "text": [
      "Answer= 450\n"
     ]
    }
   ],
   "source": [
    "## Arithimetic Operations\n",
    "## Addition\n",
    "a=10\n",
    "b=45\n",
    "c=a*b\n",
    "print(\"Answer=\",c)\n",
    "# Result:450"
   ]
  },
  {
   "cell_type": "markdown",
   "id": "48cf314d-1329-4441-b32f-1d3af554dc59",
   "metadata": {
    "tags": []
   },
   "source": [
    "## Exercise 8 - Create a code cell to multiply and add numbers.(2 pts)\n",
    "## This a simple arithmetic expression to mutiply then add integers"
   ]
  },
  {
   "cell_type": "code",
   "execution_count": 7,
   "id": "06db9550-08cb-46cb-82f8-3b4349bf02e0",
   "metadata": {
    "tags": []
   },
   "outputs": [
    {
     "name": "stdout",
     "output_type": "stream",
     "text": [
      "Answer= 17\n"
     ]
    }
   ],
   "source": [
    "## This a simple arithmetic expression to mutiply then add integers\n",
    "exp=(3*4)+5\n",
    "print(\"Answer=\",exp)\n",
    "#Result:17"
   ]
  },
  {
   "cell_type": "markdown",
   "id": "f1fab6dd-40a2-4825-8e2d-c2418be4749c",
   "metadata": {},
   "source": [
    "## Exercise 9 - Create a code cell to convert minutes to hours. (2 pts)\n",
    "## This will convert 200 minutes to hours by diving by 60"
   ]
  },
  {
   "cell_type": "code",
   "execution_count": 11,
   "id": "2e0e19a6-08c2-499d-b7f1-ca9a2f67ecbb",
   "metadata": {
    "tags": []
   },
   "outputs": [
    {
     "name": "stdout",
     "output_type": "stream",
     "text": [
      "Time in min : 200 Time in hours: 3.3333333333333335\n"
     ]
    }
   ],
   "source": [
    "##given time in minutes=200\n",
    "#for covert it into hours formula is 200/60\n",
    "time1=200\n",
    "time2=time1/60\n",
    "print(\"Time in min :\",time1 ,\n",
    "      \"Time in hours:\",time2)\n"
   ]
  },
  {
   "cell_type": "markdown",
   "id": "d6edbf23-7508-4960-b4ef-767f1c9f6f72",
   "metadata": {},
   "source": [
    "# Exercise 10 - Insert a markdown cell to list Objectives\n",
    "Objectives:\n",
    "1.List of popular languages used in Data Science.\n",
    "\n",
    "2.Some of the commonly used libraries used by Data Scientists\n",
    "\n",
    "3.Some Arithimetic Expression codes.\n",
    "\n",
    "4.Table of Data Science tools etc."
   ]
  },
  {
   "cell_type": "markdown",
   "id": "a1779c02-c306-42f3-bf8c-46f7d7edb610",
   "metadata": {},
   "source": [
    "### Exercise 11 - Create a markdown cell to indicate the Author's name\n",
    "## Author\n",
    "## Krishan "
   ]
  },
  {
   "cell_type": "code",
   "execution_count": null,
   "id": "9c1c9532-cbea-436f-99bc-cd6a5108b74a",
   "metadata": {},
   "outputs": [],
   "source": []
  }
 ],
 "metadata": {
  "kernelspec": {
   "display_name": "Python",
   "language": "python",
   "name": "conda-env-python-py"
  },
  "language_info": {
   "codemirror_mode": {
    "name": "ipython",
    "version": 3
   },
   "file_extension": ".py",
   "mimetype": "text/x-python",
   "name": "python",
   "nbconvert_exporter": "python",
   "pygments_lexer": "ipython3",
   "version": "3.7.12"
  }
 },
 "nbformat": 4,
 "nbformat_minor": 5
}
